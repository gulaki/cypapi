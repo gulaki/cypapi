{
 "cells": [
  {
   "cell_type": "code",
   "execution_count": null,
   "id": "9b1d8df4",
   "metadata": {},
   "outputs": [],
   "source": [
    "from cypapi import *"
   ]
  },
  {
   "cell_type": "code",
   "execution_count": null,
   "id": "47c17070",
   "metadata": {},
   "outputs": [],
   "source": [
    "pyPAPI_library_init()"
   ]
  },
  {
   "cell_type": "markdown",
   "id": "47b95f06-4eee-48ed-a73e-75d7b5236232",
   "metadata": {},
   "source": [
    "# PAPI Measurements\n",
    "\n",
    "A typical workflow to make measurements with PAPI is as follows\n",
    "- Create an eventset\n",
    "- Add events to measure to the eventset\n",
    "- Call `PAPI_start` on the eventset\n",
    "- Execute the code to be measured\n",
    "- Call `PAPI_stop` on the event set. This also populates an array with the values measured for each event added\n",
    "\n",
    "In `CyPAPI`, you create an eventset as"
   ]
  },
  {
   "cell_type": "code",
   "execution_count": null,
   "id": "a3dbd19e",
   "metadata": {},
   "outputs": [],
   "source": [
    "eventset = PyPAPI_EventSet()\n",
    "eventset"
   ]
  },
  {
   "cell_type": "markdown",
   "id": "98eaa37b-d2c6-457a-8bae-80d412534ff2",
   "metadata": {},
   "source": [
    "No the eventset is a Python object with members for adding events, start, stop profiling, etc. Below are all the private and public methods of an `EventSet` object."
   ]
  },
  {
   "cell_type": "code",
   "execution_count": null,
   "id": "3f6761e4-aa5a-4aa1-bc89-6dccb8c3f900",
   "metadata": {},
   "outputs": [],
   "source": [
    "print(dir(eventset))"
   ]
  },
  {
   "cell_type": "markdown",
   "id": "ec766f2a-3b00-40f8-b6ae-a95fb51b62c7",
   "metadata": {},
   "source": [
    "We can add events with the `PyPAPI_EventSet.add_named_event()` method. In an interactive environment, such as this Jupyter notebook, it is prudent to call `eventset.cleanup()` first before adding any events as we might run this cell multiple times. The `cleanup` method prevents the same event from being multiple times by removing any previously added events."
   ]
  },
  {
   "cell_type": "code",
   "execution_count": null,
   "id": "48f36500",
   "metadata": {},
   "outputs": [],
   "source": [
    "eventset.cleanup()\n",
    "eventset.add_named_event('perf::CPU-CYCLES')\n",
    "eventset.add_named_event('perf::BRANCHES')"
   ]
  },
  {
   "cell_type": "markdown",
   "id": "3004442a-9166-4fb6-9f98-1b9f3d0948d7",
   "metadata": {},
   "source": [
    "Once events are added, we can query how many events are added to the eventset"
   ]
  },
  {
   "cell_type": "code",
   "execution_count": null,
   "id": "bb8506ad",
   "metadata": {},
   "outputs": [],
   "source": [
    "eventset.num_events()"
   ]
  },
  {
   "cell_type": "markdown",
   "id": "c61345d3-18e2-4301-a83a-f243ad541b61",
   "metadata": {},
   "source": [
    "## Actual profiling"
   ]
  },
  {
   "cell_type": "code",
   "execution_count": null,
   "id": "05810c1d",
   "metadata": {},
   "outputs": [],
   "source": [
    "eventset.start()\n",
    "\n",
    "for i in range(10):\n",
    "    a = i * 2\n",
    "\n",
    "values = eventset.stop()\n",
    "values"
   ]
  },
  {
   "cell_type": "code",
   "execution_count": null,
   "id": "73b5007e-736b-4527-9adf-bb4330ac4860",
   "metadata": {},
   "outputs": [],
   "source": [
    "del eventset"
   ]
  },
  {
   "cell_type": "markdown",
   "id": "5e09b647-7892-4332-b206-a1e3a499f59b",
   "metadata": {},
   "source": [
    "## Finalizing\n",
    "\n",
    "`CyPAPI` is able to utilize Pythons reference counting mechanism to destroy eventsets when they are not needed.\n",
    "`pyPAPI_shutdown()` can be called to shutdown the PAPI library. After this PAPI features cannot be used without calling `pyPAPI_library_init()`.\n",
    "\n",
    "If the user doesn't call `pyPAPI_shutdown`, Python's `atexit` functionality calls it automatically."
   ]
  },
  {
   "cell_type": "code",
   "execution_count": null,
   "id": "3a3153eb",
   "metadata": {},
   "outputs": [],
   "source": [
    "pyPAPI_shutdown()"
   ]
  },
  {
   "cell_type": "code",
   "execution_count": null,
   "id": "f6ac2b52",
   "metadata": {},
   "outputs": [],
   "source": [
    "pyPAPI_is_initialized()"
   ]
  }
 ],
 "metadata": {
  "kernelspec": {
   "display_name": "Python 3 (ipykernel)",
   "language": "python",
   "name": "python3"
  },
  "language_info": {
   "codemirror_mode": {
    "name": "ipython",
    "version": 3
   },
   "file_extension": ".py",
   "mimetype": "text/x-python",
   "name": "python",
   "nbconvert_exporter": "python",
   "pygments_lexer": "ipython3",
   "version": "3.8.17"
  }
 },
 "nbformat": 4,
 "nbformat_minor": 5
}
