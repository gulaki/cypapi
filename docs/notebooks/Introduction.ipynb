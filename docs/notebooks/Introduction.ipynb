{
 "cells": [
  {
   "cell_type": "markdown",
   "id": "25d622ba",
   "metadata": {},
   "source": [
    "# CyPAPI: A Python extension module for PAPI Library\n",
    "\n",
    "### Rationale\n",
    "\n",
    "Python is increasingly becoming performance conscious. Python 3.12 introduces profiling using linux perf. The Python community is keen on removing the Global Interpreter Lock (GIL) which would make Python truly multi-threaded multi-process. This can be expected to happen gradually over the next few Python releases.\n",
    "\n",
    "Python has a rich ecosystem for machine learning that includes libraries like Pytorch, Tensorflow, Scipy, FastAI, etc. These libraries support computation on GPUs in a native way.\n",
    "\n",
    "It would benefit the Python community to be able to access cross-platform native hardware counters to perform system-wide performance measurement and analysis. Thus, `CyPAPI` ports the `PAPI` library to meet that need.\n",
    "\n",
    "`CyPAPI` has been written in Cython as an extension module and provides all of PAPI functionality in a Pythonic object oriented way."
   ]
  },
  {
   "cell_type": "markdown",
   "id": "bdc28f09",
   "metadata": {},
   "source": [
    "## Introduction\n",
    "\n",
    "### Installing from source\n",
    "\n",
    "Before you can use CyPAPI you need to meet the following requirements\n",
    "- have PAPI installed in your system\n",
    "- environment variable `PAPI_PATH` pointing to the installation path of PAPI library\n",
    "- `Cython` package installed in your Python environment\n",
    "- the compiler that was used to build PAPI installed\n",
    "\n",
    "From the root path of CyPAPI you can then install it with\n",
    "\n",
    "```\n",
    "$ pip install .\n",
    "```\n",
    "\n",
    "Then you can launch the Python interpreter or execute your python script that does profiling using PAPI.\n",
    "\n",
    "**Note:** After installing `CyPAPI` it will be able to locate the PAPI installed libraries and `PAPI_PATH` is no longer required."
   ]
  },
  {
   "cell_type": "markdown",
   "id": "c7f2d01a",
   "metadata": {},
   "source": [
    "## Usage\n",
    "\n",
    "Once your environment is properly setup, you can import the `CyPAPI` library with"
   ]
  },
  {
   "cell_type": "code",
   "execution_count": null,
   "id": "679962db",
   "metadata": {},
   "outputs": [],
   "source": [
    "from cypapi import *"
   ]
  },
  {
   "cell_type": "markdown",
   "id": "a25dfa37",
   "metadata": {},
   "source": [
    "The `PAPI` library has to be initialized with"
   ]
  },
  {
   "cell_type": "code",
   "execution_count": null,
   "id": "8cc372b2",
   "metadata": {},
   "outputs": [],
   "source": [
    "pyPAPI_library_init()"
   ]
  },
  {
   "cell_type": "markdown",
   "id": "d7aa086e",
   "metadata": {},
   "source": [
    "To check the level of PAPI initialization"
   ]
  },
  {
   "cell_type": "code",
   "execution_count": null,
   "id": "4ddb3b95",
   "metadata": {},
   "outputs": [],
   "source": [
    "pyPAPI_is_initialized()"
   ]
  },
  {
   "cell_type": "markdown",
   "id": "e9364bea",
   "metadata": {},
   "source": [
    "`CyPAPI` is able to load any version of the installed PAPI library. To check the version of the installed PAPI library"
   ]
  },
  {
   "cell_type": "code",
   "execution_count": null,
   "id": "875375ef",
   "metadata": {},
   "outputs": [],
   "source": [
    "pyPAPI_get_version_string()"
   ]
  },
  {
   "cell_type": "markdown",
   "id": "1fbf6bdf",
   "metadata": {},
   "source": [
    "### Components\n",
    "\n",
    "PAPI can be installed with any number of components. `CyPAPI` can retrieve information about each of these components."
   ]
  },
  {
   "cell_type": "code",
   "execution_count": null,
   "id": "980b70d2",
   "metadata": {},
   "outputs": [],
   "source": [
    "num_cmp = pyPAPI_num_components()\n",
    "num_cmp"
   ]
  },
  {
   "cell_type": "code",
   "execution_count": null,
   "id": "999c103f",
   "metadata": {},
   "outputs": [],
   "source": [
    "for cidx in range(num_cmp):\n",
    "    cmp = PyPAPI_get_component_info(cidx)\n",
    "    print('Component:', cidx, ':', cmp.name)\n",
    "    print(cmp)  # Note that some of these components are not initialized at this stage"
   ]
  },
  {
   "cell_type": "markdown",
   "id": "292fa9b8",
   "metadata": {},
   "source": [
    "## Events in component\n",
    "\n",
    "Each of these components have events that can be measured."
   ]
  },
  {
   "cell_type": "code",
   "execution_count": null,
   "id": "198ef65c",
   "metadata": {},
   "outputs": [],
   "source": [
    "for evt_code in PyPAPI_enum_component_events(0):\n",
    "    evt_name = pyPAPI_event_code_to_name(evt_code)\n",
    "    print(f'{evt_code, evt_name}', end='\\t')"
   ]
  },
  {
   "cell_type": "markdown",
   "id": "6f8d553b",
   "metadata": {},
   "source": [
    "We will do some actual measurement in the next tutorial."
   ]
  },
  {
   "cell_type": "markdown",
   "id": "e6a37833",
   "metadata": {},
   "source": [
    "## Accurate timing functions\n",
    "\n",
    "`CyPAPI` ports several accurate timing functions. Few examples are shown below"
   ]
  },
  {
   "cell_type": "code",
   "execution_count": null,
   "id": "5687ed85",
   "metadata": {},
   "outputs": [],
   "source": [
    "from time import sleep\n",
    "start = pyPAPI_get_real_usec()\n",
    "sleep(1)\n",
    "stop = pyPAPI_get_real_usec()\n",
    "print(f'Time elapsed = {stop-start} us')"
   ]
  },
  {
   "cell_type": "code",
   "execution_count": null,
   "id": "0a8449dd",
   "metadata": {},
   "outputs": [],
   "source": [
    "start = pyPAPI_get_virt_usec()\n",
    "sleep(1)\n",
    "stop = pyPAPI_get_virt_usec()\n",
    "print(f'Time elapsed = {stop-start} us')"
   ]
  },
  {
   "cell_type": "code",
   "execution_count": null,
   "id": "e5c72e92",
   "metadata": {},
   "outputs": [],
   "source": []
  }
 ],
 "metadata": {
  "kernelspec": {
   "display_name": "Python 3 (ipykernel)",
   "language": "python",
   "name": "python3"
  },
  "language_info": {
   "codemirror_mode": {
    "name": "ipython",
    "version": 3
   },
   "file_extension": ".py",
   "mimetype": "text/x-python",
   "name": "python",
   "nbconvert_exporter": "python",
   "pygments_lexer": "ipython3",
   "version": "3.8.17"
  }
 },
 "nbformat": 4,
 "nbformat_minor": 5
}
