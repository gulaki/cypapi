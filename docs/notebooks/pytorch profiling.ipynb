{
 "cells": [
  {
   "cell_type": "markdown",
   "id": "479f2de6-6a3f-4d9b-bbbc-df83fa8718ba",
   "metadata": {},
   "source": [
    "# PAPI profiling PyTorch on CPU and GPU\n",
    "\n",
    "In this tutorial we will see how `CyPAPI` can be used to profile computation executed by PyTorch on CPU as well as GPU.\n",
    "\n",
    "The computation to profile is simply\n",
    "- Create two 1000x1000 matrices populated with random numbers\n",
    "- Perform matrix multiplication and get the resulting matrix"
   ]
  },
  {
   "cell_type": "code",
   "execution_count": null,
   "id": "3ec1d204-f36e-475c-a87a-3f8ee8137beb",
   "metadata": {},
   "outputs": [],
   "source": [
    "from cypapi import *\n",
    "pyPAPI_library_init()"
   ]
  },
  {
   "cell_type": "code",
   "execution_count": null,
   "id": "563c9656-68e9-4db9-b0ca-bc0a50ee958f",
   "metadata": {},
   "outputs": [],
   "source": [
    "import torch"
   ]
  },
  {
   "cell_type": "markdown",
   "id": "5f0fad3c-1f65-4465-a544-7693731ca63d",
   "metadata": {},
   "source": [
    "## Running on the CPU"
   ]
  },
  {
   "cell_type": "code",
   "execution_count": null,
   "id": "c923804f-0c00-493b-954e-bde9d0cc51ce",
   "metadata": {},
   "outputs": [],
   "source": [
    "eventset = PyPAPI_EventSet()"
   ]
  },
  {
   "cell_type": "code",
   "execution_count": null,
   "id": "24c5cf1f-b2c0-4826-afe6-970545692362",
   "metadata": {},
   "outputs": [],
   "source": [
    "eventset.cleanup()\n",
    "eventset.add_named_event('perf::INSTRUCTIONS')\n",
    "eventset.add_named_event('perf::CPU-CYCLES')"
   ]
  },
  {
   "cell_type": "code",
   "execution_count": null,
   "id": "964123e7-7a37-4ed4-b566-da2ea507bebe",
   "metadata": {},
   "outputs": [],
   "source": [
    "# Set random seed for reproducibility\n",
    "eventset.start()\n",
    "torch.manual_seed(42)\n",
    "\n",
    "# Generate random matrices\n",
    "matrix_A = torch.rand(1000, 1000)\n",
    "matrix_B = torch.rand(1000, 1000)\n",
    "\n",
    "# Perform matrix multiplication\n",
    "result = torch.mm(matrix_A, matrix_B)\n",
    "\n",
    "# Measure events and print\n",
    "values = eventset.stop()\n",
    "print(values)\n",
    "\n",
    "# Print the matrices and the result\n",
    "print(\"Matrix A:\")\n",
    "print(matrix_A)\n",
    "print(\"\\nMatrix B:\")\n",
    "print(matrix_B)\n",
    "print(\"\\nMatrix multiplication result:\")\n",
    "print(result)\n"
   ]
  },
  {
   "cell_type": "markdown",
   "id": "d7b88481-9dae-46d7-9db6-a6d664f768e5",
   "metadata": {},
   "source": [
    "## Running on the GPU"
   ]
  },
  {
   "cell_type": "code",
   "execution_count": null,
   "id": "9e6dae26-5c38-4e52-afa1-f362494581dc",
   "metadata": {},
   "outputs": [],
   "source": [
    "evtsetgpu = PyPAPI_EventSet()"
   ]
  },
  {
   "cell_type": "code",
   "execution_count": null,
   "id": "48fb533a-52ba-4a9b-9695-fda57ade6f5f",
   "metadata": {},
   "outputs": [],
   "source": [
    "evtsetgpu.cleanup()\n",
    "evtsetgpu.add_named_event('cuda:::dram__bytes_read.sum:device=0')\n",
    "evtsetgpu.add_named_event('cuda:::sm__warps_launched.sum:device=0')"
   ]
  },
  {
   "cell_type": "code",
   "execution_count": null,
   "id": "d1847945-1755-4f0b-9e58-1a609ba958e6",
   "metadata": {},
   "outputs": [],
   "source": [
    "# Set random seed for reproducibility\n",
    "torch.manual_seed(42)\n",
    "\n",
    "# Check if a GPU is available\n",
    "device = torch.device(\"cuda\" if torch.cuda.is_available() else \"cpu\")\n",
    "\n",
    "evtsetgpu.start()\n",
    "# Generate random matrices on the GPU\n",
    "matrix_A = torch.rand(1000, 1000, device=device)\n",
    "matrix_B = torch.rand(1000, 1000, device=device)\n",
    "\n",
    "# Perform matrix multiplication\n",
    "result = torch.mm(matrix_A, matrix_B)\n",
    "\n",
    "# Transfer the result back to CPU if needed\n",
    "result_cpu = result.to(\"cpu\")\n",
    "\n",
    "valuesgpu = evtsetgpu.stop()\n",
    "print(valuesgpu)\n",
    "\n",
    "# Print the matrices and the result\n",
    "print(\"Matrix A:\")\n",
    "print(matrix_A)\n",
    "print(\"\\nMatrix B:\")\n",
    "print(matrix_B)\n",
    "print(\"\\nMatrix multiplication result:\")\n",
    "print(result_cpu)\n"
   ]
  },
  {
   "cell_type": "code",
   "execution_count": null,
   "id": "233cc378-b462-4b7a-80b6-4d2f6abdc6e4",
   "metadata": {},
   "outputs": [],
   "source": []
  }
 ],
 "metadata": {
  "kernelspec": {
   "display_name": "Python 3 (ipykernel)",
   "language": "python",
   "name": "python3"
  },
  "language_info": {
   "codemirror_mode": {
    "name": "ipython",
    "version": 3
   },
   "file_extension": ".py",
   "mimetype": "text/x-python",
   "name": "python",
   "nbconvert_exporter": "python",
   "pygments_lexer": "ipython3",
   "version": "3.8.17"
  }
 },
 "nbformat": 4,
 "nbformat_minor": 5
}
