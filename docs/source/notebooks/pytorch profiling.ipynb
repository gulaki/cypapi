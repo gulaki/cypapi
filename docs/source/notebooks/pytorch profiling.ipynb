{
 "cells": [
  {
   "cell_type": "markdown",
   "id": "479f2de6-6a3f-4d9b-bbbc-df83fa8718ba",
   "metadata": {},
   "source": [
    "# Tutorial 3: PAPI profiling PyTorch on CPU and GPU\n",
    "\n",
    "In this tutorial we will see how `CyPAPI` can be used to profile computation executed by PyTorch on CPU as well as GPU.\n",
    "\n",
    "The computation to profile is simply\n",
    "- Create two 1000x1000 matrices populated with random numbers\n",
    "- Perform matrix multiplication and get the resulting matrix"
   ]
  },
  {
   "cell_type": "code",
   "execution_count": 3,
   "id": "3ec1d204-f36e-475c-a87a-3f8ee8137beb",
   "metadata": {},
   "outputs": [],
   "source": [
    "from cypapi import *\n",
    "pyPAPI_library_init()"
   ]
  },
  {
   "cell_type": "code",
   "execution_count": 4,
   "id": "563c9656-68e9-4db9-b0ca-bc0a50ee958f",
   "metadata": {},
   "outputs": [],
   "source": [
    "import torch"
   ]
  },
  {
   "cell_type": "markdown",
   "id": "5f0fad3c-1f65-4465-a544-7693731ca63d",
   "metadata": {},
   "source": [
    "## Running on the CPU"
   ]
  },
  {
   "cell_type": "code",
   "execution_count": 3,
   "id": "c923804f-0c00-493b-954e-bde9d0cc51ce",
   "metadata": {},
   "outputs": [],
   "source": [
    "eventset = PyPAPI_EventSet()"
   ]
  },
  {
   "cell_type": "code",
   "execution_count": 4,
   "id": "24c5cf1f-b2c0-4826-afe6-970545692362",
   "metadata": {},
   "outputs": [],
   "source": [
    "eventset.cleanup()\n",
    "eventset.add_named_event('perf::INSTRUCTIONS')\n",
    "eventset.add_named_event('perf::CPU-CYCLES')"
   ]
  },
  {
   "cell_type": "code",
   "execution_count": 5,
   "id": "964123e7-7a37-4ed4-b566-da2ea507bebe",
   "metadata": {},
   "outputs": [
    {
     "name": "stdout",
     "output_type": "stream",
     "text": [
      "[140032280, 48909058]\n",
      "Matrix A:\n",
      "tensor([[0.8823, 0.9150, 0.3829,  ..., 0.5472, 0.4700, 0.0297],\n",
      "        [0.7294, 0.2729, 0.2407,  ..., 0.7834, 0.1775, 0.4530],\n",
      "        [0.3940, 0.1965, 0.7266,  ..., 0.8451, 0.0134, 0.5785],\n",
      "        ...,\n",
      "        [0.2562, 0.4331, 0.6588,  ..., 0.7695, 0.6146, 0.7825],\n",
      "        [0.1376, 0.6645, 0.2203,  ..., 0.7154, 0.8790, 0.2222],\n",
      "        [0.5079, 0.6174, 0.7933,  ..., 0.0663, 0.4269, 0.6613]])\n",
      "\n",
      "Matrix B:\n",
      "tensor([[0.5722, 0.8092, 0.4314,  ..., 0.6777, 0.5199, 0.4520],\n",
      "        [0.7586, 0.1246, 0.9024,  ..., 0.5859, 0.3754, 0.9578],\n",
      "        [0.6388, 0.5677, 0.4634,  ..., 0.9149, 0.0695, 0.9546],\n",
      "        ...,\n",
      "        [0.7106, 0.9383, 0.1809,  ..., 0.3854, 0.7740, 0.6266],\n",
      "        [0.2585, 0.1205, 0.9097,  ..., 0.9540, 0.9706, 0.5621],\n",
      "        [0.6839, 0.7743, 0.9107,  ..., 0.6092, 0.9388, 0.6612]])\n",
      "\n",
      "Matrix multiplication result:\n",
      "tensor([[235.0628, 243.5534, 255.2339,  ..., 244.6632, 245.5978, 239.0247],\n",
      "        [249.6568, 255.2137, 261.4881,  ..., 255.2853, 252.0058, 248.7790],\n",
      "        [240.8772, 248.5672, 257.5308,  ..., 254.8746, 249.5589, 254.0469],\n",
      "        ...,\n",
      "        [239.8140, 253.8028, 259.1670,  ..., 257.3373, 252.9307, 257.4231],\n",
      "        [251.0801, 260.1896, 267.2258,  ..., 260.2939, 260.5309, 253.1281],\n",
      "        [241.6723, 249.1345, 255.4865,  ..., 252.2977, 250.9631, 251.5230]])\n"
     ]
    }
   ],
   "source": [
    "# Set random seed for reproducibility\n",
    "eventset.start()\n",
    "torch.manual_seed(42)\n",
    "\n",
    "# Generate random matrices\n",
    "matrix_A = torch.rand(1000, 1000)\n",
    "matrix_B = torch.rand(1000, 1000)\n",
    "\n",
    "# Perform matrix multiplication\n",
    "result = torch.mm(matrix_A, matrix_B)\n",
    "\n",
    "# Measure events and print\n",
    "values = eventset.stop()\n",
    "print(values)\n",
    "\n",
    "# Print the matrices and the result\n",
    "print(\"Matrix A:\")\n",
    "print(matrix_A)\n",
    "print(\"\\nMatrix B:\")\n",
    "print(matrix_B)\n",
    "print(\"\\nMatrix multiplication result:\")\n",
    "print(result)\n"
   ]
  },
  {
   "cell_type": "markdown",
   "id": "d7b88481-9dae-46d7-9db6-a6d664f768e5",
   "metadata": {},
   "source": [
    "## Running on the GPU"
   ]
  },
  {
   "cell_type": "code",
   "execution_count": 5,
   "id": "9e6dae26-5c38-4e52-afa1-f362494581dc",
   "metadata": {},
   "outputs": [],
   "source": [
    "evtsetgpu = PyPAPI_EventSet()"
   ]
  },
  {
   "cell_type": "code",
   "execution_count": null,
   "id": "48fb533a-52ba-4a9b-9695-fda57ade6f5f",
   "metadata": {},
   "outputs": [],
   "source": [
    "evtsetgpu.cleanup()\n",
    "evtsetgpu.add_named_event('cuda:::dram__bytes_read.sum:device=0')\n",
    "evtsetgpu.add_named_event('cuda:::sm__warps_launched.sum:device=0')"
   ]
  },
  {
   "cell_type": "code",
   "execution_count": 1,
   "id": "d1847945-1755-4f0b-9e58-1a609ba958e6",
   "metadata": {},
   "outputs": [
    {
     "ename": "NameError",
     "evalue": "name 'torch' is not defined",
     "output_type": "error",
     "traceback": [
      "\u001b[0;31m---------------------------------------------------------------------------\u001b[0m",
      "\u001b[0;31mNameError\u001b[0m                                 Traceback (most recent call last)",
      "Cell \u001b[0;32mIn[1], line 2\u001b[0m\n\u001b[1;32m      1\u001b[0m \u001b[38;5;66;03m# Set random seed for reproducibility\u001b[39;00m\n\u001b[0;32m----> 2\u001b[0m \u001b[43mtorch\u001b[49m\u001b[38;5;241m.\u001b[39mmanual_seed(\u001b[38;5;241m42\u001b[39m)\n\u001b[1;32m      4\u001b[0m \u001b[38;5;66;03m# Check if a GPU is available\u001b[39;00m\n\u001b[1;32m      5\u001b[0m device \u001b[38;5;241m=\u001b[39m torch\u001b[38;5;241m.\u001b[39mdevice(\u001b[38;5;124m\"\u001b[39m\u001b[38;5;124mcuda\u001b[39m\u001b[38;5;124m\"\u001b[39m \u001b[38;5;28;01mif\u001b[39;00m torch\u001b[38;5;241m.\u001b[39mcuda\u001b[38;5;241m.\u001b[39mis_available() \u001b[38;5;28;01melse\u001b[39;00m \u001b[38;5;124m\"\u001b[39m\u001b[38;5;124mcpu\u001b[39m\u001b[38;5;124m\"\u001b[39m)\n",
      "\u001b[0;31mNameError\u001b[0m: name 'torch' is not defined"
     ]
    }
   ],
   "source": [
    "# Set random seed for reproducibility\n",
    "torch.manual_seed(42)\n",
    "\n",
    "# Check if a GPU is available\n",
    "device = torch.device(\"cuda\" if torch.cuda.is_available() else \"cpu\")\n",
    "\n",
    "evtsetgpu.start()\n",
    "# Generate random matrices on the GPU\n",
    "matrix_A = torch.rand(1000, 1000, device=device)\n",
    "matrix_B = torch.rand(1000, 1000, device=device)\n",
    "\n",
    "# Perform matrix multiplication\n",
    "result = torch.mm(matrix_A, matrix_B)\n",
    "\n",
    "# Transfer the result back to CPU if needed\n",
    "result_cpu = result.to(\"cpu\")\n",
    "\n",
    "valuesgpu = evtsetgpu.stop()\n",
    "print(valuesgpu)\n",
    "\n",
    "# Print the matrices and the result\n",
    "print(\"Matrix A:\")\n",
    "print(matrix_A)\n",
    "print(\"\\nMatrix B:\")\n",
    "print(matrix_B)\n",
    "print(\"\\nMatrix multiplication result:\")\n",
    "print(result_cpu)\n"
   ]
  },
  {
   "cell_type": "code",
   "execution_count": null,
   "id": "233cc378-b462-4b7a-80b6-4d2f6abdc6e4",
   "metadata": {},
   "outputs": [],
   "source": []
  }
 ],
 "metadata": {
  "kernelspec": {
   "display_name": "Python 3 (ipykernel)",
   "language": "python",
   "name": "python3"
  },
  "language_info": {
   "codemirror_mode": {
    "name": "ipython",
    "version": 3
   },
   "file_extension": ".py",
   "mimetype": "text/x-python",
   "name": "python",
   "nbconvert_exporter": "python",
   "pygments_lexer": "ipython3",
   "version": "3.10.13"
  }
 },
 "nbformat": 4,
 "nbformat_minor": 5
}
